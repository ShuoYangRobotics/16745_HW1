{
 "cells": [
  {
   "cell_type": "code",
   "execution_count": 1,
   "metadata": {},
   "outputs": [
    {
     "name": "stderr",
     "output_type": "stream",
     "text": [
      "\u001b[32m\u001b[1m Activating\u001b[22m\u001b[39m environment at `I:\\research_third_year\\16745HW\\16745_HW1\\Project.toml`\n"
     ]
    }
   ],
   "source": [
    "import Pkg; Pkg.activate(joinpath(@__DIR__,\"..\")); Pkg.instantiate();"
   ]
  },
  {
   "cell_type": "markdown",
   "metadata": {},
   "source": [
    "# A Falling Brick: Solving Quadratic Programs (40 pts)\n",
    "In this question we'll be simulating a brick falling and sliding on ice in 2D. You will show that this problem can be formulated as a QP, which you will solve using an Augmented Lagrangian method.\n",
    "\n",
    "## The Dynamics\n",
    "The dynamics of the brick can be written in continuous time as\n",
    "$$ M \\dot{v}  + M g = J^T \\lambda \\\\ \\text{ where } M = mI, \\; g = \\begin{bmatrix} 0 \\\\ 9.81 \\end{bmatrix},\\; J = \\begin{bmatrix} 0 & 1 \\end{bmatrix} $$\n",
    "and $\\lambda \\in \\mathbb{R}$ is the normal force. The velocity $v \\in \\mathbb{R}^2$ and position $q \\in \\mathbb{R}^2$ are composed of the horizontal and vertical components.\n",
    "\n",
    "We can discretize the dynamics with backward Euler:\n",
    "$$ \\begin{bmatrix} v_{k+1} \\\\ q_{k+1} \\end{bmatrix} = \\begin{bmatrix} v_k \\\\ q_k \\end{bmatrix}\n",
    "+ h \\begin{bmatrix} \\frac{1}{m} J^T \\lambda_{k+1} - g \\\\ v_{k+1} \\end{bmatrix} $$\n",
    "\n",
    "We also have the following contact constraints:\n",
    "$$ \\begin{align}\n",
    "J q_{k+1} &\\geq 0 &&\\text{(don't fall through the ice)} \\\\\n",
    "\\lambda_{k+1} &\\geq 0 &&\\text{(normal forces only push, not pull)} \\\\\n",
    "\\lambda_{k+1} J q_{k+1} &= 0 &&\\text{(no force at a distance)}\n",
    "\\end{align} $$"
   ]
  },
  {
   "cell_type": "markdown",
   "metadata": {},
   "source": [
    "## Part (a): QP formulation (5 pts)\n",
    "Show that these discrete-time dynamics are equivalent to the following QP by writing down the KKT conditions.\n",
    "\n",
    "$$ \\begin{align}\n",
    "    &\\text{minimize}_{v_{k+1}} && \\frac{1}{2} v_{k+1}^T M v_{k+1} + v_{k+1}^T M (hg - v_k) \\\\\n",
    "    &\\text{subject to} && J(q_k + h v_{k+1}) \\ge 0 \\\\\n",
    "\\end{align} $$"
   ]
  },
  {
   "cell_type": "markdown",
   "metadata": {},
   "source": [
    "**TASK**: Write down the KKT conditions for the optimization problem above, and show that it's equivalent to the dynamics problem stated previously. Use LaTeX markdown.\n",
    "\n",
    "**SOLUTION**: \\\n",
    "We denote the Lagranian multiplier as $\\lambda_{k+1}$, then the Lagrangian of this problem is \n",
    "$$\n",
    "L(v_{k+1}, \\lambda_{k+1}) = \\frac{1}{2} v_{k+1}^T M v_{k+1} + v_{k+1}^T M (hg - v_k) - \\lambda_{k+1}J(q_k + h v_{k+1})\n",
    "$$\n",
    "The derivative of the Lagrangian is \n",
    "$$\n",
    "\\nabla_{v_{k+1}} L(v_{k+1}, \\lambda_{k+1}) = M v_{k+1} + M (hg - v_k) - hJ^T\\lambda_{k+1}\n",
    "$$\n",
    "The KKT condition is \n",
    "\\begin{align}\n",
    "\\nabla_{v_{k+1}} L(v_{k+1}, \\lambda_{k+1}) & = 0 \\\\\n",
    "J(q_k + h v_{k+1}) & \\geq 0 \\\\\n",
    "\\lambda_{k+1} & \\geq 0 \\\\\n",
    "\\lambda_{k+1}J(q_k + h v_{k+1}) & = 0\n",
    "\\end{align}\n",
    "From $M v_{k+1} + M (hg - v_k) - hJ^T\\lambda_{k+1} = 0$ we can get  \n",
    "$$\n",
    "v_{k+1} = v_k + \\frac{1}{m}hJ^T\\lambda_{k+1} - hg\n",
    "$$\n",
    "which is exactly the dynamics equation. Then if we write $q_{k+1} = q_k + h v_{k+1}$, then KKT conditions are the same as the contact constraints. "
   ]
  },
  {
   "cell_type": "markdown",
   "metadata": {},
   "source": [
    "## Part (b): Implement an Augmented Lagrangian QP solver (25 pts)\n",
    "Now that we've shown that we can formulate the falling brick problem as a QP, write an augmented Lagrangian QP solver.\n",
    "\n",
    "We've provided the following data structure for storing the problem data for a generic QP of the form:\n",
    "$$ \\begin{align}\n",
    "    &\\text{minimize}_{x} && \\frac{1}{2} x^T P x + q^T x \\\\\n",
    "    &\\text{subject to} && A x = b \\\\\n",
    "    &&& C x \\leq d \\\\\n",
    "\\end{align} $$\n",
    "\n",
    "We've also provided a handful of functions that you may find useful when implementing your augmented Lagrangian solver. You're not required to use them."
   ]
  },
  {
   "cell_type": "code",
   "execution_count": 5,
   "metadata": {},
   "outputs": [
    {
     "data": {
      "text/plain": [
       "complimentarity (generic function with 1 method)"
      ]
     },
     "execution_count": 5,
     "metadata": {},
     "output_type": "execute_result"
    }
   ],
   "source": [
    "using Random, LinearAlgebra, StaticArrays\n",
    "\"\"\"\n",
    "    QPData\n",
    "\n",
    "Holds the data for a Quadratic Program (QP) of the following form:\n",
    "\n",
    "min 0.5 x'P*x + q'x\n",
    "st. A*x = b\n",
    "    C*x ≤ d\n",
    "\n",
    "# Constructors\n",
    "    QPData(P,q,A,b,C,d)\n",
    "    QPData(n::Int,m::Int,p::Int)\n",
    "\n",
    "The second constructor will initialize all the problem with zeros of the appropriate dimension\n",
    "\"\"\"\n",
    "struct QPData\n",
    "    P::Matrix{Float64}\n",
    "    q::Vector{Float64}\n",
    "    A::Matrix{Float64}\n",
    "    b::Vector{Float64}\n",
    "    C::Matrix{Float64}\n",
    "    d::Vector{Float64}\n",
    "end\n",
    "function QPData(n::Int, m::Int, p::Int)\n",
    "    QPData(zeros(n,n), zeros(n), zeros(m,n), zeros(m), zeros(p,n), zeros(p))\n",
    "end\n",
    "Base.size(qp::QPData) = (length(qp.q), num_eq(qp), num_ineq(qp))\n",
    "num_eq(qp::QPData) = length(qp.b)\n",
    "num_ineq(qp::QPData) = length(qp.d)\n",
    "\n",
    "objective(qp::QPData, x) = 0.5 * x'qp.P*x + qp.q'x\n",
    "ceq(qp::QPData, x) = qp.A * x - qp.b\n",
    "cin(qp::QPData, x) = qp.C * x - qp.d\n",
    "\n",
    "function primal_residual(qp::QPData, x, λ, μ)\n",
    "    qp.P*x + qp.q + qp.A'λ + qp.C'μ\n",
    "end\n",
    "\n",
    "function dual_residual(qp::QPData, x, λ, μ)\n",
    "    g = ceq(qp, x)\n",
    "    h = cin(qp, x)\n",
    "    return [g; max.(0, h)]\n",
    "end\n",
    "\n",
    "function complimentarity(qp::QPData, x, λ, μ)\n",
    "    return [min.(0, μ); μ .* cin(qp, x)]\n",
    "end"
   ]
  },
  {
   "cell_type": "markdown",
   "metadata": {},
   "source": [
    "Implement the following function, which solves the QP specified by a `QPData` object. See the code below for an example of using the `QPData` type and how we expect it to be passed into the method. You're not requried to solve a problem with equality constraints (since the brick problem doesn't require it), but we recommended adding in the functionality so you have a fully-functioning QP solver you can use for other problems.\n",
    "\n",
    "As we saw in class, an augmented Lagrangian solver consists of two loops: an \"inner\" loop that takes Newtons steps on the unconstrained augmented Lagrangian, and an \"outer\" loop that updates the penalty parameter and the estimates of the dual variables. We've provided you some starter code below to help you out. If you want to change those other methods (maybe to use a custom Julia type or take in extra input arguments), you're welcome to do so. We'll only call the outer `solve_qp` method from our test scripts."
   ]
  },
  {
   "cell_type": "code",
   "execution_count": 6,
   "metadata": {},
   "outputs": [
    {
     "data": {
      "text/plain": [
       "dual_update"
      ]
     },
     "execution_count": 6,
     "metadata": {},
     "output_type": "execute_result"
    }
   ],
   "source": [
    "# TASK: Implement the following method (25 pts)\n",
    "\"\"\"\n",
    "    solve_qp(qp::QPData, x0, [λ0, μ0]; kwargs...)\n",
    "\n",
    "Solve the quadratic program (QP) specified by `qp::QPData`, given initial guess `x` for the primal variables, \n",
    "and optionally the Lagrange multipliers for the equality `λ` and inequality `μ` constraints.\n",
    "\n",
    "Returns the optimized solution of primal and dual variables, `xstar,λstar,μstar`.\n",
    "\n",
    "# Optional Keyword Arguments\n",
    "* `penalty_initial` initial value of the penalty parameter\n",
    "* `penalty_scaling` geometric scaling factor for the penalty updates\n",
    "* `eps_primal` tolerance for primal feasiblity (constraint violation)\n",
    "* `eps_inner` tolerance for inner Newton solve\n",
    "* `max_iters` maximum number of outer loop iterations\n",
    "\"\"\"\n",
    "function solve_qp(qp::QPData, x0, λ0=zeros(num_eq(qp)), μ0=zeros(num_ineq(qp)); \n",
    "    penalty_initial=10.0, \n",
    "    penalty_scaling=10.0, \n",
    "    eps_primal=1e-6,\n",
    "    eps_inner=1e-6,\n",
    "    max_iters=20\n",
    ")\n",
    "# x = copy(x0)\n",
    "# λ = copy(λ0)\n",
    "# μ = copy(μ0)\n",
    "n = size(x0,1)\n",
    "x = SVector{n,Float64}(x0) \n",
    "n = size(λ0,1)\n",
    "λ = SVector{n,Float64}(λ0) \n",
    "n = size(μ0,1)\n",
    "μ = SVector{n,Float64}(μ0) \n",
    "\n",
    "n,m = size(qp.P)\n",
    "sP = SMatrix{n,m}(qp.P)\n",
    "n = size(qp.q,1)\n",
    "sq = SVector{n}(qp.q)\n",
    "neq,m = size(qp.A)\n",
    "sA = SMatrix{neq,m}(qp.A)\n",
    "n = size(qp.b,1)\n",
    "sb = SVector{n}(qp.b)\n",
    "n,m = size(qp.C)\n",
    "sC = SMatrix{n,m}(qp.C)\n",
    "n = size(qp.d,1)\n",
    "sd = SVector{n}(qp.d)\n",
    "\n",
    "ρ = penalty_initial\n",
    "ϕ = penalty_scaling\n",
    "\n",
    "# Start outer loop\n",
    "for i = 1:max_iters\n",
    "    # Solve the inner, unconstrained problem\n",
    "    for i = 1:10\n",
    "        # Compute the gradient and the Hessian of the augmented Lagrangian\n",
    "        r = sP*x + sq \n",
    "        if (neq != 0)\n",
    "            r = r + sA'*λ + ρ*sA'*(sA*x - sb)\n",
    "        end\n",
    "        p = sC*x - sd\n",
    "        for i = 1:length(μ)\n",
    "            if p[i]>0.0 || μ[i] > 0.0\n",
    "                r += sC[i,:]*μ[i] + ρ*sC[i,:]*p[i]\n",
    "            end\n",
    "        end\n",
    "        if norm(r) < eps_inner\n",
    "            break\n",
    "        end\n",
    "            \n",
    "        H = sP\n",
    "        if (neq != 0)\n",
    "            H = H + ρ*sA'*sA\n",
    "        end\n",
    "        \n",
    "        for i = 1:length(μ)\n",
    "            if p[i]>0.0 || μ[i] > 0.0\n",
    "                H += ρ*sC[i,:]*sC[i,:]'\n",
    "            end\n",
    "        end\n",
    "        Δx = -H\\r\n",
    "\n",
    "        #line search\n",
    "        alpha = 1.0\n",
    "        x2 = x+alpha*Δx\n",
    "        r2 = sP*x2 + sq \n",
    "        if (neq != 0)\n",
    "            r2 = r2 + sA'*λ + ρ*sA'*(sA*x2 - sb)\n",
    "        end\n",
    "        p = sC*x2 - sd\n",
    "        for i = 1:length(μ)\n",
    "            if p[i]>0.0 || μ[i] > 0.0\n",
    "                r2 += sC[i,:]*μ[i] + ρ*sC[i,:]*p[i]\n",
    "            end\n",
    "        end\n",
    "        while norm(r2) > norm(r)\n",
    "            alpha = alpha/2.0\n",
    "            x2 = x+alpha*Δx\n",
    "            r2 = sP*x2 + sq \n",
    "            if (neq != 0)\n",
    "                r2 = r2 + sA'*λ + ρ*sA'*(sA*x2 - sb)\n",
    "            end\n",
    "            p = sC*x2 - sd\n",
    "            for i = 1:length(μ)\n",
    "                if p[i]>0.0 || μ[i] > 0.0\n",
    "                    r2 += sC[i,:]*μ[i] + ρ*sC[i,:]*p[i]\n",
    "                end\n",
    "            end\n",
    "        end\n",
    "        x = x2       \n",
    "    end\n",
    "    \n",
    "    # Use the new solution to update the dual variables\n",
    "    g = sA * x - sb\n",
    "    h = sC * x - sd\n",
    "    λ = λ + ρ*g\n",
    "    # Keep the dual variables for the inequality constraints in the nonnegative orthant\n",
    "    μ = max.(0.0,μ+ρ*h)\n",
    "    \n",
    "    # TODO: update the penalty parameter\n",
    "    ρ = ϕ*ρ\n",
    "    \n",
    "    res = [g; max.(0.0, h)]\n",
    "    if norm(res) < eps_primal\n",
    "        # Return the optimized variables\n",
    "        return x, λ, μ\n",
    "    end        \n",
    "end\n",
    "\n",
    "@warn \"Outer loop max iterations\"\n",
    "return x, λ, μ \n",
    "end\n",
    "\n",
    "\"\"\"\n",
    "newton_solve(qp, x, λ, μ, ρ; kwargs...)\n",
    "\n",
    "Minimize the augmented Lagranginan given the current values of the dual variables `λ` and `μ` and the penalty parameter `ρ`.\n",
    "\"\"\"\n",
    "function newton_solve(qp, x, λ, μ, ρ; eps_inner=1e-6)\n",
    "    for i = 1:10\n",
    "        # Compute the gradient and the Hessian of the augmented Lagrangian\n",
    "        r = algrad(qp, x, λ, μ, ρ)\n",
    "        if norm(r) < eps_inner\n",
    "            return x\n",
    "        end\n",
    "        H = alhess(qp, x, λ, μ, ρ)\n",
    "        Δx = -H\\r\n",
    "\n",
    "        #line search\n",
    "        alpha = 1\n",
    "        r = algrad(qp, x, λ, μ, ρ)\n",
    "        r2 = algrad(qp, x+alpha*Δx, λ, μ, ρ)\n",
    "        while norm(r2) > norm(r)\n",
    "            alpha = alpha/2\n",
    "            r2 = algrad(qp, x+alpha*Δx, λ, μ, ρ)\n",
    "        end\n",
    "        x = x+alpha*Δx        \n",
    "    end\n",
    "    @warn \"Inner solve max iterations\"\n",
    "return x\n",
    "end\n",
    "\n",
    "\"\"\"\n",
    "algrad(qp, x, λ, μ, ρ)\n",
    "\n",
    "Compute the gradient of the augmented Lagrangian, provided the QP data `qp`, penalty parameter `ρ`,\n",
    "primal variables `x`, equality Lagrange multipliers `λ` and inequality Lagrange multipliers `μ`\n",
    "\"\"\"\n",
    "function algrad(qp, x, λ, μ, ρ)\n",
    "    # TODO: compute the gradient of the augmented Lagrangian\n",
    "    # HINT: be sure to compute the active constraints!\n",
    "    grad = qp.P*x + qp.q + qp.A'*λ + ρ*qp.A'*(qp.A*x - qp.b)\n",
    "\n",
    "    # p = max.(0, qp.C*x - qp.d)\n",
    "    # mask1 = qp.C*x .> qp.d \n",
    "    # mask2 = μ .> 0\n",
    "    # p = qp.C*x - qp.d\n",
    "    # if qp.C*x >= qp.d\n",
    "        # grad += qp.C[mask,:]'*μ[mask] + ρ*qp.C[mask,:]'*p[mask]\n",
    "    # end\n",
    "    # very slow \n",
    "    p = qp.C*x - qp.d\n",
    "    for i = 1:length(μ)\n",
    "        if p[i]>0 || μ[i] > 0\n",
    "            grad += qp.C[i:i,:]'*μ[i] + ρ*qp.C[i:i,:]'*p[i]\n",
    "        end\n",
    "    end\n",
    "    return grad\n",
    "end\n",
    "\n",
    "\"\"\"\n",
    "alhess(qp, x, λ, μ, ρ)\n",
    "\n",
    "Compute the Hessian of the augmented Lagrangian, provided the QP data `qp`, penalty parameter `ρ`,\n",
    "primal variables `x`, equality Lagrange multipliers `λ` and inequality Lagrange multipliers `μ`\n",
    "\"\"\"\n",
    "function alhess(qp, x, λ, μ, ρ)\n",
    "    # TODO: compute the Hessian of the augmented Lagrangian\n",
    "    # n = size(x)\n",
    "    # hess = Matrix(I,n,n)\n",
    "    hess = qp.P + ρ*qp.A'*qp.A\n",
    "    # mask = qp.C*x .> qp.d || μ .> 0\n",
    "    # if qp.C*x >= qp.d    \n",
    "        # hess = hess + ρ*qp.C[mask,:]'*qp.C[mask,:]\n",
    "    # end\n",
    "    p = qp.C*x - qp.d\n",
    "    for i = 1:length(μ)\n",
    "        if p[i]>0 || μ[i] > 0\n",
    "            hess += ρ*qp.C[i:i,:]'*qp.C[i:i,:]\n",
    "        end\n",
    "    end\n",
    "\n",
    "    return hess\n",
    "end\n",
    "\n",
    "\"\"\"\n",
    "dual_update(qp, x, λ, μ, ρ)\n",
    "\n",
    "Update the dual variables `λ` and `μ` give the primal variables `x`, QP data `qp` and penalty parameter `ρ`.\n",
    "\"\"\"\n",
    "function dual_update(qp, x, λ, μ, ρ)\n",
    "    # TODO: compute the new values for λ and μ\n",
    "    λnext = copy(λ)\n",
    "    μnext = copy(μ)\n",
    "\n",
    "    g = ceq(qp, x)\n",
    "    h = cin(qp, x)\n",
    "    λnext = λnext + ρ*g\n",
    "    # Keep the dual variables for the inequality constraints in the nonnegative orthant\n",
    "    μnext = max.(0,μnext+ρ*h)\n",
    "    # for i = 1:length(μ)\n",
    "        # μnext[i] = max.(0,μnext[i]+ρ*h[i])\n",
    "        # μnext[i] = μnext[i] + max.(0, ρ*h[i])\n",
    "        # μnext[i] = max(0, μnext[i])\n",
    "    # end\n",
    "    return λnext, μnext\n",
    "end"
   ]
  },
  {
   "cell_type": "markdown",
   "metadata": {},
   "source": [
    "You can use the following code to test your QP solver."
   ]
  },
  {
   "cell_type": "code",
   "execution_count": 8,
   "metadata": {},
   "outputs": [
    {
     "name": "stdout",
     "output_type": "stream",
     "text": [
      "-----------------------------------------------------------------\n",
      "           OSQP v0.6.0  -  Operator Splitting QP Solver\n",
      "              (c) Bartolomeo Stellato,  Goran Banjac\n",
      "        University of Oxford  -  Stanford University 2019\n",
      "-----------------------------------------------------------------\n",
      "problem:  variables n = 10, constraints m = 4\n",
      "          nnz(P) + nnz(A) = 95\n",
      "settings: linear system solver = qdldl,\n",
      "          eps_abs = 1.0e-006, eps_rel = 1.0e-006,\n",
      "          eps_prim_inf = 1.0e-004, eps_dual_inf = 1.0e-004,\n",
      "          rho = 1.00e-001 (adaptive),\n",
      "          sigma = 1.00e-006, alpha = 1.60, max_iter = 4000\n",
      "          check_termination: on (interval 25),\n",
      "          scaling: on, scaled_termination: off\n",
      "          warm start: on, polish: off, time_limit: off\n",
      "\n",
      "iter  objective    pri res    dua res    rho        time\n",
      "   1 -3.9691e+001  1.33e+001  3.40e+000  1.00e-001  2.82e-005s\n",
      "  75 -3.6501e+001  2.96e-007  3.00e-009  1.46e-002  5.49e-005s\n",
      "\n",
      "status:               solved\n",
      "number of iterations: 75\n",
      "optimal objective:    -36.5014\n",
      "run time:             5.77e-005s\n",
      "optimal rho estimate: 2.34e-002\n",
      "\n"
     ]
    },
    {
     "data": {
      "text/plain": [
       "\u001b[32m\u001b[1mTest Passed\u001b[22m\u001b[39m"
      ]
     },
     "execution_count": 8,
     "metadata": {},
     "output_type": "execute_result"
    }
   ],
   "source": [
    "using Test, Random\n",
    "Random.seed!(1)\n",
    "# Setting up and solving a random QP\n",
    "n,m,p = 10,0,4 \n",
    "qp = QPData(n,m,p)\n",
    "P = rand(n,n)\n",
    "qp.P .= P'P   # make it P.S.D\n",
    "qp.q .= randn(n)\n",
    "qp.A .= randn(m,n)\n",
    "qp.b .= randn(m)\n",
    "qp.C .= randn(p,n)\n",
    "qp.d .= randn(p)\n",
    "\n",
    "# Initial guess\n",
    "x = randn(n)\n",
    "\n",
    "# Solve\n",
    "xstar, λstar, μstar = solve_qp(qp, x)\n",
    "\n",
    "# Check optimality conditions\n",
    "@test norm(primal_residual(qp, xstar, λstar, μstar)) < 1e-3\n",
    "@test norm(dual_residual(qp, xstar, λstar, μstar)) < 1e-6\n",
    "@test norm(complimentarity(qp, xstar, λstar, μstar)) < 1e-3\n",
    "\n",
    "# Compare with OSQP\n",
    "using OSQP, SparseArrays\n",
    "model = OSQP.Model()\n",
    "OSQP.setup!(model, P=sparse(qp.P), q=qp.q, A=sparse([qp.A; qp.C]), l=[qp.b; fill(-Inf,p)], u=[qp.b; qp.d],\n",
    "    eps_abs=1e-6, eps_rel=1e-6)\n",
    "res = OSQP.solve!(model)\n",
    "@test norm(res.x - xstar) < 1e-3\n",
    "@test norm(res.y - [λstar; μstar]) < 1e-3"
   ]
  },
  {
   "cell_type": "code",
   "execution_count": 9,
   "metadata": {},
   "outputs": [],
   "source": [
    "using StaticArrays\n",
    "macro __LOCATION__(); return QuoteNode(__source__); end\n",
    "n = size(x,1)\n",
    "SVector{n,Float64}(x) \n",
    "n,m = size(qp.A)\n",
    "n == 0 || m == 0\n",
    "\n",
    "n,m = size(qp.P)\n",
    "sP = SMatrix{n,m}(qp.P)\n",
    "n = size(qp.q,1)\n",
    "sq = SVector{n}(qp.q)\n",
    "neq,m = size(qp.A)\n",
    "sA = SMatrix{neq,m}(qp.A)\n",
    "n = size(qp.b,1)\n",
    "sb = SVector{n}(qp.b)\n",
    "n,m = size(qp.C)\n",
    "sC = SMatrix{n,m}(qp.C)\n",
    "n = size(qp.d,1)\n",
    "sd = SVector{n}(qp.d)\n",
    "λ=SVector{num_eq(qp)}(zeros(num_eq(qp)))\n",
    "μ=SVector{num_ineq(qp)}(zeros(num_ineq(qp)))\n",
    "ρ = 10.0\n",
    "        r = sP*x + sq \n",
    "        if (neq != 0)\n",
    "            r = r + sA'*λ + ρ*sA'*(sA*x - sb)\n",
    "        end\n",
    "        p = sC*x - sd\n",
    "        for i = 1:length(μ)\n",
    "            if p[i]>0 || μ[i] > 0\n",
    "                r += sC[i,:]*μ[i] + ρ*sC[i,:]*p[i]\n",
    "            end\n",
    "        end\n",
    "# i = 1\n"
   ]
  },
  {
   "cell_type": "markdown",
   "metadata": {},
   "source": [
    "## Part (c): Simulate the system (10 pts)\n",
    "Use your solver from the previous question to simulate the brick for 3 seconds, from the initial condition of `q0 = [0,1]`, `v0 = [1,0]` with `h=0.01` sec and `m=1`.\n",
    "Use the provided visualization code to visualize your results.\n",
    "\n",
    "**NOTE**: If you are unable to get your QP solver to work, feel free to use OSQP to solve the QP. An example of setting up and solving a QP with OSQP is provided above."
   ]
  },
  {
   "cell_type": "code",
   "execution_count": 10,
   "metadata": {},
   "outputs": [
    {
     "data": {
      "text/plain": [
       "build_qp"
      ]
     },
     "execution_count": 10,
     "metadata": {},
     "output_type": "execute_result"
    }
   ],
   "source": [
    "# TASK: Implement the following method (2 pts)\n",
    "\"\"\"\n",
    "    build_qp(q, v; mass=1, h=0.01)\n",
    "\n",
    "Build the Quadratic Program corresponding to the falling brick example of mass `mass`, \n",
    "given the 2D position `q` and velocity `v`, and the time step `h`.\n",
    "\n",
    "Should return a `QPData` object with the correct sizes.\n",
    "\"\"\"\n",
    "function build_qp(q,v; mass=1, h=0.01)\n",
    "    # TODO: finish the function\n",
    "    \n",
    "    P = diagm([mass,mass])\n",
    "    qq = diagm([mass,mass])*([0;h*9.81] - v)\n",
    "    A = Matrix{Float64}(undef,0,2)\n",
    "    b = Vector{Float64}(undef,0)\n",
    "    J = [0 1]\n",
    "    C = -J .* h\n",
    "    d = J*q\n",
    "    # Return as a QPData type\n",
    "    QPData(P,qq,A,b,C,d)\n",
    "end"
   ]
  },
  {
   "cell_type": "code",
   "execution_count": 11,
   "metadata": {},
   "outputs": [
    {
     "data": {
      "text/plain": [
       "simulate_brick (generic function with 3 methods)"
      ]
     },
     "execution_count": 11,
     "metadata": {},
     "output_type": "execute_result"
    }
   ],
   "source": [
    "# TASK: Implement the following method (8 pts)\n",
    "function simulate_brick(q0=[0,1.], v0=[1,0.]; h=0.01, T=3.0, m=1.0)\n",
    "    times = range(0, T, step=h)\n",
    "    qs = [zero(q0) for t in times]\n",
    "    vs = [zero(v0) for t in times]\n",
    "    qs[1] .= q0\n",
    "    vs[1] .= v0\n",
    "    \n",
    "    # TODO: Simulate the brick by solving the QP\n",
    "    #  TIP: remember to update your QP after each step\n",
    "    for i in 1:size(times,1)-1\n",
    "        qp = build_qp(qs[i],vs[i]; mass=m,h=h)\n",
    "        xstar, λstar, μstar = solve_qp(qp, vs[i])\n",
    "        vs[i+1] = [xstar[1],xstar[2]]\n",
    "        qs[i+1] = qs[i] + h*vs[i+1]\n",
    "    end\n",
    "    \n",
    "    # Return the state and velocity trajectories\n",
    "    return qs, vs\n",
    "end"
   ]
  },
  {
   "cell_type": "code",
   "execution_count": 12,
   "metadata": {},
   "outputs": [
    {
     "data": {
      "text/plain": [
       "simulate_brick_osqp (generic function with 3 methods)"
      ]
     },
     "execution_count": 12,
     "metadata": {},
     "output_type": "execute_result"
    }
   ],
   "source": [
    "function simulate_brick_osqp(q0=[0,1.], v0=[1,0.]; h=0.01, T=3.0, m=1.0)\n",
    "    times = range(0, T, step=h)\n",
    "    qs = [zero(q0) for t in times]\n",
    "    vs = [zero(v0) for t in times]\n",
    "    qs[1] .= q0\n",
    "    vs[1] .= v0\n",
    "    \n",
    "    # TODO: Simulate the brick by solving the QP\n",
    "    #  TIP: remember to update your QP after each step\n",
    "    for i in 1:size(times,1)-1\n",
    "        qp = build_qp(qs[i],vs[i]; mass=m,h=h)\n",
    "        # xstar, λstar, μstar = solve_qp(qp, vs[i])\n",
    "        model = OSQP.Model()\n",
    "        OSQP.setup!(model, P=sparse(qp.P), q=qp.q, A=sparse([qp.A; qp.C]), l=[qp.b; fill(-Inf,size(qp.d,1))], u=[qp.b; qp.d],\n",
    "            eps_abs=1e-6, eps_rel=1e-6)\n",
    "        res = OSQP.solve!(model)\n",
    "        vs[i+1] = res.x\n",
    "        qs[i+1] = qs[i] + h*vs[i+1]\n",
    "    end\n",
    "    \n",
    "    # Return the state and velocity trajectories\n",
    "    return qs, vs\n",
    "end"
   ]
  },
  {
   "cell_type": "markdown",
   "metadata": {},
   "source": [
    "### Visualize the Results\n",
    "Use the following code to visualize the the results of your simulation"
   ]
  },
  {
   "cell_type": "code",
   "execution_count": 13,
   "metadata": {},
   "outputs": [
    {
     "name": "stderr",
     "output_type": "stream",
     "text": [
      "┌ Info: MeshCat server started. You can open the visualizer by visiting the following URL in your browser:\n",
      "│ http://localhost:8704\n",
      "└ @ MeshCat C:\\Users\\pauly\\.julia\\packages\\MeshCat\\X2AUA\\src\\visualizer.jl:73\n"
     ]
    },
    {
     "data": {
      "text/html": [
       "    <div style=\"height: 500px; width: 100%; overflow-x: auto; overflow-y: hidden; resize: both\">\n",
       "    <iframe src=\"http://localhost:8704\" style=\"width: 100%; height: 100%; border: none\"></iframe>\n",
       "    </div>\n"
      ],
      "text/plain": [
       "MeshCat.DisplayedVisualizer(MeshCat.CoreVisualizer(MeshCat.SceneTrees.SceneNode(nothing, nothing, Dict{String,Array{UInt8,1}}(), nothing, Dict{String,MeshCat.SceneTrees.SceneNode}(\"meshcat\" => MeshCat.SceneTrees.SceneNode(nothing, nothing, Dict{String,Array{UInt8,1}}(), nothing, Dict{String,MeshCat.SceneTrees.SceneNode}(\"brick\" => MeshCat.SceneTrees.SceneNode(UInt8[0x83, 0xa6, 0x6f, 0x62, 0x6a, 0x65, 0x63, 0x74, 0x84, 0xaa  …  0x68, 0x63, 0x61, 0x74, 0x2f, 0x62, 0x72, 0x69, 0x63, 0x6b], nothing, Dict{String,Array{UInt8,1}}(), nothing, Dict{String,MeshCat.SceneTrees.SceneNode}()))))), Set{Any}(), ip\"127.0.0.1\", 8704))"
      ]
     },
     "execution_count": 13,
     "metadata": {},
     "output_type": "execute_result"
    }
   ],
   "source": [
    "# Set up Visualizer\n",
    "using MeshCat\n",
    "using GeometryTypes, Colors, CoordinateTransformations\n",
    "vis = Visualizer()\n",
    "setobject!(vis[\"brick\"], HyperRectangle(Vec(0,0,0f0), 0.5*Vec(2,1,1f0)), MeshPhongMaterial(color=colorant\"firebrick\"))\n",
    "render(vis)"
   ]
  },
  {
   "cell_type": "code",
   "execution_count": 15,
   "metadata": {},
   "outputs": [],
   "source": [
    "function show_sim(vis, qs, h)\n",
    "    fps = Int(1/h)\n",
    "    anim = MeshCat.Animation(fps)\n",
    "    for (i,q) in enumerate(qs)\n",
    "        atframe(anim, i) do\n",
    "            settransform!(vis[\"brick\"], Translation(q[1],0,q[2]))\n",
    "        end\n",
    "    end\n",
    "    setanimation!(vis, anim)\n",
    "end\n",
    "show_sim(vis, h::Real) = show_sim(vis, simulate_brick(h=h)[1], h)\n",
    "show_sim(vis, 0.01);\n"
   ]
  },
  {
   "cell_type": "markdown",
   "metadata": {},
   "source": [
    "## EXTRA CREDIT: Make it fast! (max 10 pts)\n",
    "You can earn extra credit by making your QP solver fast. Points will be given relative to the speed of OSQP, a state-of-the-art QP solver. There will be four different levels:\n",
    "1. Less than 0.5x the time of OSQP (2x slower that OSQP) (2 pts)\n",
    "2. Faster than OSQP (5 pts)\n",
    "3. 2x faster than OSQP (8 pts)\n",
    "4. Faster than Brian's solution (about 5x faster than OSQP) (10 pts)\n",
    "\n",
    "It will be timed on the brick simulator, see the code below for the command we will use to obtain the timing results.\n",
    "Tips:\n",
    "* Check out the `StaticArrays` package\n",
    "* Consider making your own solver type\n",
    "* Avoid allocating new memory\n",
    "* Use the `BenchmarkTools` package to check the performance of individual pieces\n",
    "* Check out the [Julia Performance Tips](https://docs.julialang.org/en/v1/manual/performance-tips/)\n",
    "* Write a version of your simulation code that uses OSQP to compare performance"
   ]
  },
  {
   "cell_type": "code",
   "execution_count": null,
   "metadata": {},
   "outputs": [],
   "source": [
    "# Sample timing results\n",
    "using BenchmarkTools\n",
    "@time simulate_brick();"
   ]
  },
  {
   "cell_type": "code",
   "execution_count": null,
   "metadata": {},
   "outputs": [],
   "source": [
    "@btime simulate_brick_osqp();"
   ]
  },
  {
   "cell_type": "code",
   "execution_count": null,
   "metadata": {},
   "outputs": [],
   "source": []
  }
 ],
 "metadata": {
  "kernelspec": {
   "display_name": "Julia 1.5.3",
   "language": "julia",
   "name": "julia-1.5"
  },
  "language_info": {
   "file_extension": ".jl",
   "mimetype": "application/julia",
   "name": "julia",
   "version": "1.5.3"
  }
 },
 "nbformat": 4,
 "nbformat_minor": 4
}
