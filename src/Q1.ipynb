{
 "cells": [
  {
   "cell_type": "code",
   "execution_count": 1,
   "metadata": {},
   "outputs": [
    {
     "name": "stderr",
     "output_type": "stream",
     "text": [
      "\u001b[32m\u001b[1m Activating\u001b[22m\u001b[39m new environment at `~/Documents/julia_program_files/Project.toml`\n",
      "\u001b[32m\u001b[1m   Updating\u001b[22m\u001b[39m registry at `~/.julia/registries/General`\n",
      "######################################################################### 100.0%\n",
      "\u001b[32m\u001b[1mNo Changes\u001b[22m\u001b[39m to `~/Documents/julia_program_files/Project.toml`\n",
      "\u001b[32m\u001b[1mNo Changes\u001b[22m\u001b[39m to `~/Documents/julia_program_files/Manifest.toml`\n"
     ]
    }
   ],
   "source": [
    "import Pkg; Pkg.activate(joinpath(@__DIR__,\"..\")); Pkg.instantiate();\n",
    "using LinearAlgebra"
   ]
  },
  {
   "cell_type": "markdown",
   "metadata": {},
   "source": [
    "# Question 1: Implicit Integrators (25 pts)\n",
    "In this question we'll be taking a deeper look into implicit integration techniques, and some of the advantages they bring."
   ]
  },
  {
   "cell_type": "markdown",
   "metadata": {},
   "source": [
    "## Part (a): Implicit Midpoint (3 pts)\n",
    "Implement implicit midpoint integration for the simple pendulum with $m = l = 1$ and $g = 9.81$:\n",
    "$$ x_{n+1} = x_n + h f\\left(\\frac{x_{n+1} + x_n}{2}\\right) $$"
   ]
  },
  {
   "cell_type": "code",
   "execution_count": 2,
   "metadata": {},
   "outputs": [
    {
     "data": {
      "text/plain": [
       "implicit_midpoint_pendulum (generic function with 1 method)"
      ]
     },
     "execution_count": 2,
     "metadata": {},
     "output_type": "execute_result"
    }
   ],
   "source": [
    "# TASK: Implement the `implicit_midpoint_pendulum!` function\n",
    "\"\"\"\n",
    "    x2 = implicit_midpoint_pendulum!(x2, x1, h; [m,l,g])\n",
    "\n",
    "Evaluate the discrete pendulum dynamics with mass `m`, length `l`, and gravity `g` using\n",
    "implicit midpoint:\n",
    "\n",
    "``x_{n+1} = x_n + h f\\\\left(\\\\frac{x_{n+1} + x_n}{2}\\\\right)``\n",
    "\"\"\"\n",
    "\n",
    "function pendulum_dynamics(x)\n",
    "    l = 1.0\n",
    "    g = 9.81\n",
    "    \n",
    "    θ = x[1]\n",
    "    θ̇ = x[2]\n",
    "    \n",
    "    θ̈ = -(g/l)*sin(θ)\n",
    "    \n",
    "    return [θ̇; θ̈]\n",
    "end\n",
    "\n",
    "function implicit_midpoint_pendulum(x2, x1, h)\n",
    "    return (x1+h*pendulum_dynamics((x2+x1)/2))\n",
    "end"
   ]
  },
  {
   "cell_type": "code",
   "execution_count": 3,
   "metadata": {},
   "outputs": [
    {
     "data": {
      "text/plain": [
       "2-element Array{Float64,1}:\n",
       " 1.15\n",
       " 0.021457418141422435"
      ]
     },
     "execution_count": 3,
     "metadata": {},
     "output_type": "execute_result"
    }
   ],
   "source": [
    "x1 = [1,1.] \n",
    "x2 = [2,2.] \n",
    "h = 0.1\n",
    "out = implicit_midpoint_pendulum(x2,x1,h)"
   ]
  },
  {
   "cell_type": "markdown",
   "metadata": {},
   "source": [
    "## Part (b): Solve using Newton's Method (10 pts)\n",
    "Use Newton's method to solve for $x_{n+1}$ with initial guess $x_{n+1} = x_n$. Solve such that the 2-norm of the residual is less than 1e-6. \n",
    "\n",
    "**NOTE**: It should take 5 iterations or less. If it's taking more iterations than that, you're doing something wrong."
   ]
  },
  {
   "cell_type": "code",
   "execution_count": 4,
   "metadata": {},
   "outputs": [
    {
     "data": {
      "text/plain": [
       "implicit_midpoint_solve! (generic function with 1 method)"
      ]
     },
     "execution_count": 4,
     "metadata": {},
     "output_type": "execute_result"
    }
   ],
   "source": [
    "# TASK: Complete the following function\n",
    "\"\"\"\n",
    "    implicit_midpoint_solve!(x2,x1,h)\n",
    "\n",
    "Find the `x2` that satisfies implicit midpoint integration for the pendulum dynamics. \n",
    "\n",
    "Should modify `x2` in-place and return a vector of 2-norm residuals. The input value of `x2`\n",
    "should be used as the initial guess.\n",
    "\"\"\"\n",
    "\n",
    "using ForwardDiff\n",
    "\n",
    "function implicit_midpoint_solve!(x2, x1, h; ϵ=1e-7)::Vector{Float64}\n",
    "    # TODO: Implement this function. Feel free to add optional input arguments as needed\n",
    "    x = [x2[1];x2[2]]\n",
    "    residuals = Float64[]\n",
    "    res = x - implicit_midpoint_pendulum(x, x1, h)\n",
    "#     println(norm(res))\n",
    "    residuals = [norm(res)]\n",
    "    while norm(res) > ϵ\n",
    "        f0 = x - implicit_midpoint_pendulum(x, x1, h)\n",
    "#         J = [1 -h/2; 9.81*h/2*cos(x2[1]) 1]\n",
    "        J = ForwardDiff.jacobian(x -> x - implicit_midpoint_pendulum(x, x1, h), x)\n",
    "        \n",
    "        dx = -J\\f0\n",
    "        \n",
    "        x = x + dx\n",
    "        res = x - implicit_midpoint_pendulum(x, x1, h)\n",
    "        residuals = [residuals norm(res)]\n",
    "    end\n",
    "    x2[1] = x[1]\n",
    "    x2[2] = x[2]\n",
    "    return vec(residuals)\n",
    "end"
   ]
  },
  {
   "cell_type": "code",
   "execution_count": 5,
   "metadata": {},
   "outputs": [
    {
     "data": {
      "text/plain": [
       "4-element Array{Float64,1}:\n",
       " 2.1533998115137853\n",
       " 0.10650960705931933\n",
       " 2.9022955960744667e-6\n",
       " 2.1210781103223385e-15"
      ]
     },
     "execution_count": 5,
     "metadata": {},
     "output_type": "execute_result"
    }
   ],
   "source": [
    "x1 = [1,1.] \n",
    "x2 = [2,2.] \n",
    "h = 0.1\n",
    "res = implicit_midpoint_solve!(x2, x1, h)\n",
    "\n",
    "# @show x2\n",
    "# @show x2 ≈ [1.0579750727230095, 0.15950145446019248]"
   ]
  },
  {
   "cell_type": "markdown",
   "metadata": {},
   "source": [
    "## Part (c): Energy Analysis (2 pts)\n",
    "Simulate with $h=0.1$ for 1 hour and plot the total energy of the system vs time:\n",
    "$$ E = \\frac{1}{2} m l^2 \\omega^2 + m g l (1 - \\cos \\theta) $$\n",
    "\n",
    "Start the simulation with an initial state of 45 degrees and zero velocity."
   ]
  },
  {
   "cell_type": "code",
   "execution_count": 6,
   "metadata": {},
   "outputs": [
    {
     "name": "stderr",
     "output_type": "stream",
     "text": [
      "┌ Info: Precompiling PyPlot [d330b81b-6aea-500a-939a-2ce795aea3ee]\n",
      "└ @ Base loading.jl:1278\n"
     ]
    },
    {
     "data": {
      "text/plain": [
       "([0.7853981633974483 0.7513107220090732 … 0.46919378966690894 0.2611797884075531; 0.0 -0.6817488277675015 … -1.9049708020058427 -2.255309223181273], [0.0, 0.1, 0.2, 0.3, 0.4, 0.5, 0.6, 0.7, 0.8, 0.9  …  3599.1, 3599.2, 3599.3, 3599.4, 3599.5, 3599.6, 3599.7, 3599.8, 3599.9, 3600.0], [2.8732824765599685, 2.8732824765599685, 2.8732937275331656, 2.8735560824904187, 2.87442995764877, 2.875741558724905, 2.8766126633937374, 2.8762969454497953, 2.8750755776581203, 2.873908575945493  …  2.8764102217608967, 2.8765626030773777, 2.8755768417167866, 2.874283052902132, 2.8734961352377946, 2.8732906019879563, 2.8732860128284794, 2.8733083046372943, 2.8736346922878315, 2.874592970947477])"
      ]
     },
     "execution_count": 6,
     "metadata": {},
     "output_type": "execute_result"
    }
   ],
   "source": [
    "# TASK: Compute the energy of the system. Store the result in the vector `energy_implicit::Vector{Float64}`\n",
    "using PyPlot\n",
    "\n",
    "function pendulum_forward_implicit(fun, x0, Tf, h)    \n",
    "    t = Array(range(0,Tf,step=h))\n",
    "    \n",
    "    x_hist = zeros(length(x0),length(t))\n",
    "    energy_hist = zeros(length(t))\n",
    "    x_hist[:,1] .= x0\n",
    "    energy_hist[1] = 0.5*x0[2]^2 + 9.81*(1-cos(x0[1]))\n",
    "    \n",
    "    for k = 1:(length(t)-1)\n",
    "        x = x_hist[:,k]\n",
    "        fun(x, x_hist[:,k], h)    \n",
    "        x_hist[:,k+1] = x\n",
    "#         println(x_hist[:,k+1])\n",
    "        energy_hist[k+1] = 0.5*x_hist[:,k][2]^2 + 9.81*(1-cos(x_hist[:,k][1]))\n",
    "    end\n",
    "    \n",
    "    return x_hist, t, energy_hist\n",
    "end\n",
    "\n",
    "energy_implicit = zeros(36001);\n",
    "Tf = 3600\n",
    "h = 0.1\n",
    "x0 = [pi/4;0.0]\n",
    "x_hist, t, energy_implicit = pendulum_forward_implicit(implicit_midpoint_solve!, x0, Tf, h)  "
   ]
  },
  {
   "cell_type": "code",
   "execution_count": 7,
   "metadata": {},
   "outputs": [
    {
     "data": {
      "image/png": "[encoded data removed]",
      "text/plain": [
       "Figure(PyObject <Figure size 640x480 with 1 Axes>)"
      ]
     },
     "metadata": {},
     "output_type": "display_data"
    },
    {
     "data": {
      "text/plain": [
       "1-element Array{PyCall.PyObject,1}:\n",
       " PyObject <matplotlib.lines.Line2D object at 0x7f3f5510e190>"
      ]
     },
     "execution_count": 7,
     "metadata": {},
     "output_type": "execute_result"
    }
   ],
   "source": [
    "plot(t, x_hist[1,:])"
   ]
  },
  {
   "cell_type": "code",
   "execution_count": 8,
   "metadata": {},
   "outputs": [
    {
     "data": {
      "image/png": "[encoded data removed]",
      "text/plain": [
       "Figure(PyObject <Figure size 640x480 with 1 Axes>)"
      ]
     },
     "metadata": {},
     "output_type": "display_data"
    },
    {
     "name": "stdout",
     "output_type": "stream",
     "text": [
      "(36001,)\n",
      "(36001,)\n"
     ]
    },
    {
     "data": {
      "text/plain": [
       "PyObject Text(24.0, 0.5, 'Energy')"
      ]
     },
     "execution_count": 8,
     "metadata": {},
     "output_type": "execute_result"
    }
   ],
   "source": [
    "println(size(t))\n",
    "println(size(energy_implicit))\n",
    "plot(t, energy_implicit)\n",
    "xlabel(\"time\")\n",
    "ylabel(\"Energy\")"
   ]
  },
  {
   "cell_type": "markdown",
   "metadata": {},
   "source": [
    "## Part (d): RK4 Comparison (5 pts)\n",
    "Compare the energy behavior of the implicit midpoint integrator with a 4th order Runge Kutta integrator."
   ]
  },
  {
   "cell_type": "code",
   "execution_count": 9,
   "metadata": {},
   "outputs": [
    {
     "data": {
      "text/plain": [
       "rk4"
      ]
     },
     "execution_count": 9,
     "metadata": {},
     "output_type": "execute_result"
    }
   ],
   "source": [
    "# TASK: implement a 4th order Runge Kutta integrator for the pendulum (3 pts)\n",
    "\"\"\"\n",
    "    rk4(x, h)\n",
    "\n",
    "Integrate the pendulum dynamics with a 4th Order Runge Kutta method at states `x` and time step `h`.\n",
    "\"\"\"\n",
    "function rk4(x, h)\n",
    "    # TODO: implement rk4\n",
    "    f1 = pendulum_dynamics(x)\n",
    "    f2 = pendulum_dynamics(x + 0.5*h*f1)\n",
    "    f3 = pendulum_dynamics(x + 0.5*h*f2)\n",
    "    f4 = pendulum_dynamics(x + h*f3)\n",
    "    return x + (h/6.0)*(f1 + 2*f2 + 2*f3 + f4)\n",
    "end"
   ]
  },
  {
   "cell_type": "code",
   "execution_count": 10,
   "metadata": {},
   "outputs": [
    {
     "data": {
      "image/png": "[encoded data removed]",
      "text/plain": [
       "Figure(PyObject <Figure size 640x480 with 1 Axes>)"
      ]
     },
     "metadata": {},
     "output_type": "display_data"
    },
    {
     "data": {
      "text/plain": [
       "1-element Array{PyCall.PyObject,1}:\n",
       " PyObject <matplotlib.lines.Line2D object at 0x7f3f46e99a00>"
      ]
     },
     "execution_count": 10,
     "metadata": {},
     "output_type": "execute_result"
    }
   ],
   "source": [
    "# TASK: Compute the energy behavior of rk4. Store the result in `energy_rk4::Vector{Float64}` (1 pt)\n",
    "# TASK: Generate a plot of energy vs time comparing implicit midpoint with rk4 (1 pt)\n",
    "\n",
    "function pendulum_rk4(fun, x0, Tf, h)    \n",
    "    t = Array(range(0,Tf,step=h))\n",
    "    \n",
    "    x_hist = zeros(length(x0),length(t))\n",
    "    energy_hist = zeros(length(t))\n",
    "    x_hist[:,1] .= x0\n",
    "    energy_hist[1] = 0.5*x0[2]^2 + 9.8*(1-cos(x0[1]))\n",
    "    \n",
    "    for k = 1:(length(t)-1)\n",
    "        \n",
    "        x_hist[:,k+1] = fun(x_hist[:,k], h)    \n",
    "#         println(x_hist[:,k+1])\n",
    "        energy_hist[k+1] = 0.5*x_hist[:,k][2]^2 + 9.8*(1-cos(x_hist[:,k][1]))\n",
    "    end\n",
    "    return x_hist, t, energy_hist\n",
    "end\n",
    "\n",
    "energy_rk4 = zeros(36001)\n",
    "Tf = 3600\n",
    "h = 0.1\n",
    "x0 = [pi/4;0.0]\n",
    "x_hist, t, energy_rk4 = pendulum_rk4(rk4, x0, Tf, h)\n",
    "plot(t, x_hist[1,:])\n",
    "\n"
   ]
  },
  {
   "cell_type": "code",
   "execution_count": 11,
   "metadata": {},
   "outputs": [
    {
     "data": {
      "image/png": "[encoded data removed]",
      "text/plain": [
       "Figure(PyObject <Figure size 640x480 with 1 Axes>)"
      ]
     },
     "metadata": {},
     "output_type": "display_data"
    },
    {
     "name": "stdout",
     "output_type": "stream",
     "text": [
      "(36001,)\n",
      "(36001,)\n"
     ]
    },
    {
     "data": {
      "text/plain": [
       "PyObject Text(24.000000000000007, 0.5, 'Energy')"
      ]
     },
     "execution_count": 11,
     "metadata": {},
     "output_type": "execute_result"
    }
   ],
   "source": [
    "println(size(t))\n",
    "println(size(energy_implicit))\n",
    "plot(t, energy_rk4)\n",
    "xlabel(\"time\")\n",
    "ylabel(\"Energy\")"
   ]
  },
  {
   "cell_type": "markdown",
   "metadata": {},
   "source": [
    "## Part (e): Evaluating the Jacobian (5 pts)\n",
    "Computing the Jacobian for an explicit integrator like RK4 is straightforward, since it's just a basic application of the chain rule (you should do this for practice, and can check your result with ForwardDiff). \n",
    "\n",
    "Computing the Jacobian for an implicit integrator is not as trivial since we use Newton's method to compute the next step. However, we can use the [implicit function theorem](https://en.wikipedia.org/wiki/Implicit_function_theorem), which can be easily derived by taking a 1st order Taylor series expansion of $f(x,y) = 0$:\n",
    "$$ f(x,y) = 0 \\implies f(x + \\Delta x, y + \\Delta y) \\approx f(x,y) + \\frac{\\partial f}{\\partial x} \\Delta x + \\frac{\\partial f}{\\partial y} \\Delta y = 0 $$\n",
    "Dropping $f(x,y)$ (since it's zero) and solving for $\\Delta x$ we obtain an expression for our Jacobian:\n",
    "$$ \\Delta x = -\\frac{\\partial f}{\\partial x}^{-1} \\frac{\\partial f}{\\partial y} \\Delta y $$\n",
    "\n",
    "Use this to compute the Jacobian of the implicit integrator, evaluated at $\\theta = \\omega = 0$. "
   ]
  },
  {
   "cell_type": "code",
   "execution_count": 12,
   "metadata": {},
   "outputs": [
    {
     "data": {
      "text/plain": [
       "2×2 Array{Float64,2}:\n",
       "  0.952124  0.0976062\n",
       " -0.957517  0.952124"
      ]
     },
     "execution_count": 12,
     "metadata": {},
     "output_type": "execute_result"
    }
   ],
   "source": [
    "# TASK: Compute the Jacobian of the implicit midpoint integrator for h = 0.1. (3 pts)\n",
    "#       Store the result in `Amid::Matrix{Float64}` of size (2,2)\n",
    "x2 = [0.0;0.0]\n",
    "h=0.1\n",
    "Amid = zeros(2,2)\n",
    "dfx = [1 -h/2; 9.81*h/2*cos(x2[1]) 1]\n",
    "dfy = [-1 -h/2; 9.81*h/2*cos(x2[1]) -1]\n",
    "Amid = -dfx\\dfy"
   ]
  },
  {
   "cell_type": "code",
   "execution_count": 13,
   "metadata": {},
   "outputs": [
    {
     "data": {
      "image/png": "[encoded data removed]",
      "text/plain": [
       "Figure(PyObject <Figure size 640x480 with 1 Axes>)"
      ]
     },
     "metadata": {},
     "output_type": "display_data"
    },
    {
     "data": {
      "text/plain": [
       "PyObject Text(24.00000000000002, 0.5, 'Magnitude of eigenvalues')"
      ]
     },
     "execution_count": 13,
     "metadata": {},
     "output_type": "execute_result"
    }
   ],
   "source": [
    "# TASK: Compute the magnitude of the eigenvalues of A for 0 ≤ h ≤ 1.  (1 pt)\n",
    "#       Store the result in `eigs_implicit::Matrix{Float64}` of size (101,2)\n",
    "hs = range(0,100, length=101)\n",
    "eigs_implicit = zeros(101,2)\n",
    "\n",
    "for k = 1:size(eigs_implicit,1)\n",
    "    dfx = [1 -hs[k]/2; 9.81*hs[k]/2*cos(x2[1]) 1]\n",
    "    dfy = [-1 -hs[k]/2; 9.81*hs[k]/2*cos(x2[1]) -1]\n",
    "    Amid = -dfx\\dfy\n",
    "    eigs_implicit[k,:] = norm.(eigvals(Amid))\n",
    "end\n",
    "plot(hs,eigs_implicit)\n",
    "\n",
    "\n",
    "# TASK: Plot the eigenvalues vs time step (1 pt)\n",
    "plot(hs, eigs_implicit)\n",
    "xlabel(\"time step (sec)\")\n",
    "ylabel(\"Magnitude of eigenvalues\")"
   ]
  },
  {
   "cell_type": "markdown",
   "metadata": {},
   "source": [
    "### NOTE:\n",
    "Obviously something special is going on here. Implicit midpoint is a \"symplectic\" integrator. That means it conserves energy (up to numerical roundoff/truncation error). Implicit midpoint is also the simplest \"collocation\" method. More about those later..."
   ]
  }
 ],
 "metadata": {
  "kernelspec": {
   "display_name": "Julia 1.5.3",
   "language": "julia",
   "name": "julia-1.5"
  },
  "language_info": {
   "file_extension": ".jl",
   "mimetype": "application/julia",
   "name": "julia",
   "version": "1.5.3"
  }
 },
 "nbformat": 4,
 "nbformat_minor": 4
}
